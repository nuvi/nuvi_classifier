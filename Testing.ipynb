{
 "cells": [
  {
   "cell_type": "code",
   "execution_count": 276,
   "metadata": {},
   "outputs": [],
   "source": [
    "import pickle\n",
    "import pandas as pd\n",
    "import numpy as np\n",
    "from keras.preprocessing import sequence\n",
    "from keras.models import load_model\n",
    "from sklearn.metrics import f1_score, precision_score, recall_score, roc_auc_score, roc_curve\n",
    "import matplotlib.pyplot as plt"
   ]
  },
  {
   "cell_type": "markdown",
   "metadata": {},
   "source": [
    "# Test Data (Amazon)"
   ]
  },
  {
   "cell_type": "code",
   "execution_count": 277,
   "metadata": {},
   "outputs": [],
   "source": [
    "df = pd.read_csv('test_amazon_dataset.csv', sep='\\|\\|\\|', engine='python')\n",
    "text_list_amazon = list(map(str, df['Text'].tolist()))\n",
    "\n",
    "Y_amazon = np.array(df['Feedback'])\n",
    "\n",
    "max_length = 35"
   ]
  },
  {
   "cell_type": "markdown",
   "metadata": {},
   "source": [
    "# Test Data (General)"
   ]
  },
  {
   "cell_type": "code",
   "execution_count": 278,
   "metadata": {},
   "outputs": [],
   "source": [
    "df = pd.read_csv('test_general_dataset.csv', sep='\\|\\|\\|', engine='python')\n",
    "text_list_general = list(map(str, df['Text'].tolist()))\n",
    "\n",
    "Y_general = np.array(df['Feedback'])"
   ]
  },
  {
   "cell_type": "markdown",
   "metadata": {},
   "source": [
    "### ===================\n",
    "# TESTING\n",
    "### ==================="
   ]
  },
  {
   "cell_type": "code",
   "execution_count": 279,
   "metadata": {},
   "outputs": [],
   "source": [
    "class Simple_Classifier:\n",
    "    def __init__(self, min_number=2):\n",
    "        self.min_number = min_number\n",
    "        self.keywords = {\n",
    "            \"good\": 110,\n",
    "            \"great\": 160,\n",
    "            \"like\": 208,\n",
    "            \"time\": 52,\n",
    "            \"would\": 41,\n",
    "            \"should\": 41,\n",
    "            \"would recommend\": 10000,\n",
    "            \"really\": 142,\n",
    "            \"come back\": 323,\n",
    "            \"get\": 39,\n",
    "            \"go\": 35,\n",
    "            \"nice\": 900,\n",
    "            \"best\": 310,\n",
    "            \"well\": 100,\n",
    "            \"always\": 206,\n",
    "            \"love\": 391,\n",
    "            \"little\": 257,\n",
    "            \"staff\": 784,\n",
    "            \"pretty\": 799,\n",
    "            \"first\": 2064,\n",
    "            \"never\": 138,\n",
    "            \"friendly\": 2784,\n",
    "            \"people\": 62,\n",
    "            \"much\": 298,\n",
    "            \"definitely\": 2005,\n",
    "            \"restaurant\": 1118,\n",
    "            \"recommend\": 1699,\n",
    "            \"could\": 71,\n",
    "            \"amazing\": 2314,\n",
    "            \"better\": 453,\n",
    "            \"experience\": 1185,\n",
    "            \"order\": 685,\n",
    "            \"come\": 70,\n",
    "            \"around\": 265,\n",
    "            \"right\": 193,\n",
    "            \"delicious\": 100000,\n",
    "            \"every\": 172,\n",
    "            \"make\": 45,\n",
    "            \"menu\": 3113,\n",
    "            \"way\": 84,\n",
    "            \"still\": 126,\n",
    "            \"night\": 209,\n",
    "            \"wait\": 401,\n",
    "            \"minutes\": 309,\n",
    "            \"ever\": 281,\n",
    "        }\n",
    "        self.keyword_set = set(self.keywords.keys())\n",
    "\n",
    "    def evaluate(self, X, Y):\n",
    "        correct = 0\n",
    "        for x, y in zip(X, Y):\n",
    "            if self.predict(x) == y:\n",
    "                correct += 1\n",
    "        return (correct * 1.0) / len(X)\n",
    "\n",
    "    def predict_all(self, X):\n",
    "        return map(self.predict, X)\n",
    "\n",
    "    def predict(self, x):\n",
    "        tweet_set = set(x.split())\n",
    "        shared_words = self.keyword_set & tweet_set\n",
    "        return len(shared_words) >= self.min_number"
   ]
  },
  {
   "cell_type": "code",
   "execution_count": 280,
   "metadata": {},
   "outputs": [],
   "source": [
    "# create model\n",
    "model = Simple_Classifier(2)"
   ]
  },
  {
   "cell_type": "code",
   "execution_count": 281,
   "metadata": {},
   "outputs": [
    {
     "name": "stdout",
     "output_type": "stream",
     "text": [
      "KEYWORD CLASSIFIER\n",
      "\n",
      "AMAZON\n",
      "accuracy: 0.808585055644\n",
      "fmeasure: 0.5761402387041773\t[0.89002558 0.2622549 ]\n",
      "precision: 0.6347253886010362\t[0.84145078 0.428     ]\n",
      "recall: 0.5667990441963289\t[0.94455215 0.18904594]\n",
      "roc_auc: 0.5667990441963289\n",
      "\n",
      "\n",
      "GENERAL\n",
      "accuracy: 0.70753323486\n",
      "fmeasure: 0.5719677617125631\t[0.81285444 0.33108108]\n",
      "precision: 0.5729063728685267\t[0.89958159 0.24623116]\n",
      "recall: 0.6232669747600427\t[0.74137931 0.50515464]\n",
      "roc_auc: 0.6232669747600427\n"
     ]
    }
   ],
   "source": [
    "print('KEYWORD CLASSIFIER\\n')\n",
    "print('AMAZON')\n",
    "print('accuracy: %s' % model.evaluate(text_list_amazon, Y_amazon))\n",
    "    \n",
    "fmeasure = f1_score(Y_amazon, model.predict_all(text_list_amazon), average=None)\n",
    "print('fmeasure: %s\\t%s' % (np.mean(fmeasure), fmeasure))\n",
    "precision = precision_score(Y_amazon, model.predict_all(text_list_amazon), average=None)\n",
    "print('precision: %s\\t%s' % (np.mean(precision), precision))\n",
    "recall = recall_score(Y_amazon, model.predict_all(text_list_amazon), average=None)\n",
    "print('recall: %s\\t%s' % (np.mean(recall), recall))\n",
    "\n",
    "print('roc_auc: %s' % roc_auc_score(Y_amazon, model.predict_all(text_list_amazon)))\n",
    "\n",
    "print('\\n')\n",
    "print('GENERAL')\n",
    "print('accuracy: %s' % model.evaluate(text_list_general, Y_general))\n",
    "    \n",
    "fmeasure = f1_score(Y_general, model.predict_all(text_list_general), average=None)\n",
    "print('fmeasure: %s\\t%s' % (np.mean(fmeasure), fmeasure))\n",
    "precision = precision_score(Y_general, model.predict_all(text_list_general), average=None)\n",
    "print('precision: %s\\t%s' % (np.mean(precision), precision))\n",
    "recall = recall_score(Y_general, model.predict_all(text_list_general), average=None)\n",
    "print('recall: %s\\t%s' % (np.mean(recall), recall))\n",
    "\n",
    "print('roc_auc: %s' % roc_auc_score(Y_general, model.predict_all(text_list_general)))"
   ]
  },
  {
   "cell_type": "code",
   "execution_count": 282,
   "metadata": {},
   "outputs": [],
   "source": [
    "fpr_simple, tpr_simple, thresholds = roc_curve(Y_amazon, model.predict_all(text_list_amazon), pos_label=1)\n",
    "auc_simple = roc_auc_score(Y_amazon, model.predict_all(text_list_amazon))"
   ]
  },
  {
   "cell_type": "markdown",
   "metadata": {},
   "source": [
    "## General Model"
   ]
  },
  {
   "cell_type": "code",
   "execution_count": 283,
   "metadata": {},
   "outputs": [],
   "source": [
    "# load model and tokenizer\n",
    "model = load_model('general_model.h5')\n",
    "tokenizer = pickle.load(open('general_tokenizer.p', 'rb'))"
   ]
  },
  {
   "cell_type": "code",
   "execution_count": 284,
   "metadata": {},
   "outputs": [],
   "source": [
    "# prepare test data\n",
    "text_matrix_amazon = tokenizer.texts_to_sequences(text_list_amazon)\n",
    "X_amazon = sequence.pad_sequences(text_matrix_amazon, maxlen=max_length, padding='pre', truncating='post')\n",
    "\n",
    "text_matrix_general = tokenizer.texts_to_sequences(text_list_general)\n",
    "X_general = sequence.pad_sequences(text_matrix_general, maxlen=max_length, padding='pre', truncating='post')"
   ]
  },
  {
   "cell_type": "code",
   "execution_count": 285,
   "metadata": {},
   "outputs": [
    {
     "name": "stdout",
     "output_type": "stream",
     "text": [
      "GENERAL MODEL\n",
      "\n",
      "AMAZON\n",
      "3145/3145 [==============================] - 4s 1ms/step\n",
      "loss: 0.6878026232733029\n",
      "binary_accuracy: 0.8190779014308426\n",
      "fmeasure: 0.6149055558245506\t[0.89530819 0.33450292]\n",
      "precision: 0.6733502224419179\t[0.85189076 0.49480969]\n",
      "recall: 0.5980195435544223\t[0.94338891 0.25265018]\n",
      "roc_auc: 0.7576569793808923\n",
      "\n",
      "\n",
      "GENERAL\n",
      "677/677 [==============================] - 0s 501us/step\n",
      "loss: 0.7895219441354715\n",
      "binary_accuracy: 0.7548005908419497\n",
      "fmeasure: 0.5428057671027794\t[0.85413005 0.23148148]\n",
      "precision: 0.5405258877744646\t[0.87096774 0.21008403]\n",
      "recall: 0.5478314966228226\t[0.83793103 0.25773196]\n",
      "roc_auc: 0.5785193743334518\n"
     ]
    }
   ],
   "source": [
    "print('GENERAL MODEL\\n')\n",
    "\n",
    "# test on amazon data\n",
    "print('AMAZON')\n",
    "metrics = zip(model.metrics_names, model.evaluate(X_amazon, Y_amazon))\n",
    "for metric, val in metrics:\n",
    "    print('%s: %s' %(metric, val))\n",
    "    \n",
    "fmeasure = f1_score(Y_amazon, model.predict(X_amazon) > 0.5, average=None)\n",
    "print('fmeasure: %s\\t%s' % (np.mean(fmeasure), fmeasure))\n",
    "precision = precision_score(Y_amazon, model.predict(X_amazon)> 0.5, average=None)\n",
    "print('precision: %s\\t%s' % (np.mean(precision), precision))\n",
    "recall = recall_score(Y_amazon, model.predict(X_amazon)> 0.5, average=None)\n",
    "print('recall: %s\\t%s' % (np.mean(recall), recall))\n",
    "\n",
    "print('roc_auc: %s' % roc_auc_score(Y_amazon, model.predict(X_amazon)))\n",
    "\n",
    "\n",
    "# test on general data\n",
    "print('\\n')\n",
    "print('GENERAL')\n",
    "metrics = zip(model.metrics_names, model.evaluate(X_general, Y_general))\n",
    "for metric, val in metrics:\n",
    "    print('%s: %s' %(metric, val))\n",
    "    \n",
    "fmeasure = f1_score(Y_general, (model.predict(X_general) > 0.5).astype(int), average=None)\n",
    "print('fmeasure: %s\\t%s' % (np.mean(fmeasure), fmeasure))\n",
    "precision = precision_score(Y_general, model.predict(X_general) > 0.5, average=None)\n",
    "print('precision: %s\\t%s' % (np.mean(precision), precision))\n",
    "recall = recall_score(Y_general, model.predict(X_general) > 0.5, average=None)\n",
    "print('recall: %s\\t%s' % (np.mean(recall), recall))\n",
    "\n",
    "print('roc_auc: %s' % roc_auc_score(Y_general, model.predict(X_general)))"
   ]
  },
  {
   "cell_type": "code",
   "execution_count": 286,
   "metadata": {},
   "outputs": [],
   "source": [
    "fpr_general, tpr_general, _ = roc_curve(Y_amazon, model.predict(X_amazon), pos_label=1)\n",
    "auc_general = roc_auc_score(Y_amazon, model.predict(X_amazon))"
   ]
  },
  {
   "cell_type": "code",
   "execution_count": 287,
   "metadata": {},
   "outputs": [
    {
     "name": "stdout",
     "output_type": "stream",
     "text": [
      "0.7576569793808923\n"
     ]
    }
   ],
   "source": [
    "print auc_general"
   ]
  },
  {
   "cell_type": "markdown",
   "metadata": {},
   "source": [
    "## General + Reviews Model"
   ]
  },
  {
   "cell_type": "code",
   "execution_count": 288,
   "metadata": {},
   "outputs": [],
   "source": [
    "# load model and tokenizer\n",
    "model = load_model('general+reviews_model.h5')\n",
    "tokenizer = pickle.load(open('general+reviews_tokenizer.p', 'rb'))"
   ]
  },
  {
   "cell_type": "code",
   "execution_count": 289,
   "metadata": {},
   "outputs": [],
   "source": [
    "# prepare test data\n",
    "text_matrix_amazon = tokenizer.texts_to_sequences(text_list_amazon)\n",
    "X_amazon = sequence.pad_sequences(text_matrix_amazon, maxlen=max_length, padding='pre', truncating='post')\n",
    "\n",
    "text_matrix_general = tokenizer.texts_to_sequences(text_list_general)\n",
    "X_general = sequence.pad_sequences(text_matrix_general, maxlen=max_length, padding='pre', truncating='post')"
   ]
  },
  {
   "cell_type": "code",
   "execution_count": 290,
   "metadata": {},
   "outputs": [
    {
     "name": "stdout",
     "output_type": "stream",
     "text": [
      "GENERAL + REVIEWS MODEL\n",
      "\n",
      "AMAZON\n",
      "3145/3145 [==============================] - 4s 1ms/step\n",
      "loss: 1.3869585274133849\n",
      "binary_accuracy: 0.6610492846166007\n",
      "fmeasure: 0.6022739136046649\t[0.75516766 0.44938017]\n",
      "precision: 0.621857715636887\t[0.92619718 0.31751825]\n",
      "recall: 0.7030038075951865\t[0.63745638 0.76855124]\n",
      "roc_auc: 0.7736399048032697\n",
      "\n",
      "\n",
      "GENERAL\n",
      "677/677 [==============================] - 0s 549us/step\n",
      "loss: 1.3697638550396332\n",
      "binary_accuracy: 0.6366322009743053\n",
      "fmeasure: 0.516933518969718\t[0.75739645 0.27647059]\n",
      "precision: 0.5391041322940965\t[0.88479263 0.19341564]\n",
      "recall: 0.5733025239957341\t[0.66206897 0.48453608]\n",
      "roc_auc: 0.6101759687166726\n"
     ]
    }
   ],
   "source": [
    "print('GENERAL + REVIEWS MODEL\\n')\n",
    "\n",
    "# test on amazon data\n",
    "print('AMAZON')\n",
    "metrics = zip(model.metrics_names, model.evaluate(X_amazon, Y_amazon))\n",
    "for metric, val in metrics:\n",
    "    print('%s: %s' %(metric, val))\n",
    "    \n",
    "fmeasure = f1_score(Y_amazon, model.predict(X_amazon) > 0.5, average=None)\n",
    "print('fmeasure: %s\\t%s' % (np.mean(fmeasure), fmeasure))\n",
    "precision = precision_score(Y_amazon, model.predict(X_amazon)> 0.5, average=None)\n",
    "print('precision: %s\\t%s' % (np.mean(precision), precision))\n",
    "recall = recall_score(Y_amazon, model.predict(X_amazon)> 0.5, average=None)\n",
    "print('recall: %s\\t%s' % (np.mean(recall), recall))\n",
    "\n",
    "print('roc_auc: %s' % roc_auc_score(Y_amazon, model.predict(X_amazon)))\n",
    "\n",
    "\n",
    "# test on general data\n",
    "print('\\n')\n",
    "print('GENERAL')\n",
    "metrics = zip(model.metrics_names, model.evaluate(X_general, Y_general))\n",
    "for metric, val in metrics:\n",
    "    print('%s: %s' %(metric, val))\n",
    "    \n",
    "fmeasure = f1_score(Y_general, (model.predict(X_general) > 0.5).astype(int), average=None)\n",
    "print('fmeasure: %s\\t%s' % (np.mean(fmeasure), fmeasure))\n",
    "precision = precision_score(Y_general, model.predict(X_general) > 0.5, average=None)\n",
    "print('precision: %s\\t%s' % (np.mean(precision), precision))\n",
    "recall = recall_score(Y_general, model.predict(X_general) > 0.5, average=None)\n",
    "print('recall: %s\\t%s' % (np.mean(recall), recall))\n",
    "\n",
    "print('roc_auc: %s' % roc_auc_score(Y_general, model.predict(X_general)))"
   ]
  },
  {
   "cell_type": "markdown",
   "metadata": {},
   "source": [
    "## Amazon Model"
   ]
  },
  {
   "cell_type": "code",
   "execution_count": 291,
   "metadata": {},
   "outputs": [],
   "source": [
    "# load model and tokenizer\n",
    "model = load_model('amazon_model.h5')\n",
    "tokenizer = pickle.load(open('amazon_tokenizer.p', 'rb'))"
   ]
  },
  {
   "cell_type": "code",
   "execution_count": 292,
   "metadata": {},
   "outputs": [],
   "source": [
    "# prepare test data\n",
    "text_matrix_amazon = tokenizer.texts_to_sequences(text_list_amazon)\n",
    "X_amazon = sequence.pad_sequences(text_matrix_amazon, maxlen=max_length, padding='pre', truncating='post')\n",
    "\n",
    "text_matrix_general = tokenizer.texts_to_sequences(text_list_general)\n",
    "X_general = sequence.pad_sequences(text_matrix_general, maxlen=max_length, padding='pre', truncating='post')"
   ]
  },
  {
   "cell_type": "code",
   "execution_count": 293,
   "metadata": {},
   "outputs": [
    {
     "name": "stdout",
     "output_type": "stream",
     "text": [
      "AMAZON MODEL\n",
      "\n",
      "AMAZON\n",
      "3145/3145 [==============================] - 4s 1ms/step\n",
      "loss: 0.4842183566529345\n",
      "binary_accuracy: 0.8174880763116057\n",
      "fmeasure: 0.6954197643844787\t[0.88823988 0.50259965]\n",
      "precision: 0.6926291439532403\t[0.89206101 0.49319728]\n",
      "recall: 0.6984094144469396\t[0.88445134 0.51236749]\n",
      "roc_auc: 0.811728530383349\n",
      "\n",
      "\n",
      "GENERAL\n",
      "677/677 [==============================] - 0s 513us/step\n",
      "loss: 0.7065875544990007\n",
      "binary_accuracy: 0.7636632200886263\n",
      "fmeasure: 0.5102188460842828\t[0.86254296 0.15789474]\n",
      "precision: 0.5104396818382678\t[0.85958904 0.16129032]\n",
      "recall: 0.5100782083185211\t[0.86551724 0.15463918]\n",
      "roc_auc: 0.5551102026306434\n"
     ]
    }
   ],
   "source": [
    "print('AMAZON MODEL\\n')\n",
    "\n",
    "# test on amazon data\n",
    "print('AMAZON')\n",
    "metrics = zip(model.metrics_names, model.evaluate(X_amazon, Y_amazon))\n",
    "for metric, val in metrics:\n",
    "    print('%s: %s' %(metric, val))\n",
    "    \n",
    "fmeasure = f1_score(Y_amazon, model.predict(X_amazon) > 0.5, average=None)\n",
    "print('fmeasure: %s\\t%s' % (np.mean(fmeasure), fmeasure))\n",
    "precision = precision_score(Y_amazon, model.predict(X_amazon)> 0.5, average=None)\n",
    "print('precision: %s\\t%s' % (np.mean(precision), precision))\n",
    "recall = recall_score(Y_amazon, model.predict(X_amazon)> 0.5, average=None)\n",
    "print('recall: %s\\t%s' % (np.mean(recall), recall))\n",
    "\n",
    "print('roc_auc: %s' % roc_auc_score(Y_amazon, model.predict(X_amazon)))\n",
    "\n",
    "\n",
    "# test on general data\n",
    "print('\\n')\n",
    "print('GENERAL')\n",
    "metrics = zip(model.metrics_names, model.evaluate(X_general, Y_general))\n",
    "for metric, val in metrics:\n",
    "    print('%s: %s' %(metric, val))\n",
    "    \n",
    "fmeasure = f1_score(Y_general, (model.predict(X_general) > 0.5).astype(int), average=None)\n",
    "print('fmeasure: %s\\t%s' % (np.mean(fmeasure), fmeasure))\n",
    "precision = precision_score(Y_general, model.predict(X_general) > 0.5, average=None)\n",
    "print('precision: %s\\t%s' % (np.mean(precision), precision))\n",
    "recall = recall_score(Y_general, model.predict(X_general) > 0.5, average=None)\n",
    "print('recall: %s\\t%s' % (np.mean(recall), recall))\n",
    "\n",
    "print('roc_auc: %s' % roc_auc_score(Y_general, model.predict(X_general)))"
   ]
  },
  {
   "cell_type": "code",
   "execution_count": 294,
   "metadata": {},
   "outputs": [
    {
     "name": "stdout",
     "output_type": "stream",
     "text": [
      "0.811728530383349\n"
     ]
    }
   ],
   "source": [
    "fpr_amazon, tpr_amazon, _ = roc_curve(Y_amazon, model.predict(X_amazon), pos_label=1)\n",
    "auc_amazon = roc_auc_score(Y_amazon, model.predict(X_amazon))\n",
    "print auc_amazon"
   ]
  },
  {
   "cell_type": "markdown",
   "metadata": {},
   "source": [
    "# ROC Curve"
   ]
  },
  {
   "cell_type": "code",
   "execution_count": 309,
   "metadata": {},
   "outputs": [
    {
     "data": {
      "image/png": "[encoded data removed]",
      "text/plain": [
       "<matplotlib.figure.Figure at 0x13409db90>"
      ]
     },
     "metadata": {},
     "output_type": "display_data"
    }
   ],
   "source": [
    "plt.figure(1)\n",
    "plt.plot([0, 1], [0, 1], 'k--')\n",
    "plt.plot(fpr_amazon, tpr_amazon, label='Amazon (area = {0:0.2f})'.format(amazon_auc), color='#5ec7db')\n",
    "plt.plot(fpr_general, tpr_general, label='General (area = {0:0.2f})'.format(auc_general), color='gray')\n",
    "plt.plot(fpr_simple, tpr_simple, label='Keyword (area = {0:0.2f})'.format(auc_simple), color='#081c1f')\n",
    "plt.xlabel('False Positive Rate')\n",
    "plt.ylabel('True Positive Rate')\n",
    "plt.title('ROC Curve')\n",
    "plt.legend(loc='best')\n",
    "plt.savefig('roc_curve_FOR_CLAY.png')"
   ]
  },
  {
   "cell_type": "code",
   "execution_count": null,
   "metadata": {},
   "outputs": [],
   "source": []
  }
 ],
 "metadata": {
  "kernelspec": {
   "display_name": "Python 2",
   "language": "python",
   "name": "python2"
  },
  "language_info": {
   "codemirror_mode": {
    "name": "ipython",
    "version": 2
   },
   "file_extension": ".py",
   "mimetype": "text/x-python",
   "name": "python",
   "nbconvert_exporter": "python",
   "pygments_lexer": "ipython2",
   "version": "2.7.12"
  }
 },
 "nbformat": 4,
 "nbformat_minor": 2
}
